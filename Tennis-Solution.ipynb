{
 "cells": [
  {
   "cell_type": "code",
   "execution_count": 1,
   "id": "interior-punch",
   "metadata": {},
   "outputs": [],
   "source": [
    "import numpy as np\n",
    "import torch\n",
    "from unityagents import UnityEnvironment\n",
    "from maddpg.storage import ReplayBuffer\n",
    "from maddpg.agent import MADDPGAgent\n",
    "from collections import deque\n",
    "import matplotlib.pyplot as plt\n",
    "%matplotlib inline"
   ]
  },
  {
   "cell_type": "code",
   "execution_count": 2,
   "id": "owned-minute",
   "metadata": {},
   "outputs": [],
   "source": [
    "BUFFER_SIZE = int(1e5)  # replay buffer size\n",
    "BATCH_SIZE = 128        # minibatch size\n",
    "GAMMA = 0.995            # discount factor\n",
    "TAU = 1e-3              # for soft update of target parameters\n",
    "LR_ACTOR = 1e-3         # learning rate of the actor \n",
    "LR_CRITIC = 1e-3        # learning rate of the critic\n",
    "WEIGHT_DECAY = 0        # L2 weight decay\n",
    "RANDOM_SEED = 42\n",
    "UPDATE_EVERY = 4\n",
    "DEVICE = torch.device(\"cuda:0\" if torch.cuda.is_available() else \"cpu\")"
   ]
  },
  {
   "cell_type": "code",
   "execution_count": 3,
   "id": "unexpected-invite",
   "metadata": {},
   "outputs": [
    {
     "name": "stderr",
     "output_type": "stream",
     "text": [
      "INFO:unityagents:\n",
      "'Academy' started successfully!\n",
      "Unity Academy name: Academy\n",
      "        Number of Brains: 1\n",
      "        Number of External Brains : 1\n",
      "        Lesson number : 0\n",
      "        Reset Parameters :\n",
      "\t\t\n",
      "Unity brain name: TennisBrain\n",
      "        Number of Visual Observations (per agent): 0\n",
      "        Vector Observation space type: continuous\n",
      "        Vector Observation space size (per agent): 8\n",
      "        Number of stacked Vector Observation: 3\n",
      "        Vector Action space type: continuous\n",
      "        Vector Action space size (per agent): 2\n",
      "        Vector Action descriptions: , \n"
     ]
    }
   ],
   "source": [
    "env = UnityEnvironment(file_name=\"./Tennis_Linux_NoVis/Tennis.x86_64\")\n",
    "brain_name = env.brain_names[0]\n",
    "brain = env.brains[brain_name]"
   ]
  },
  {
   "cell_type": "code",
   "execution_count": 4,
   "id": "gentle-correspondence",
   "metadata": {},
   "outputs": [
    {
     "name": "stdout",
     "output_type": "stream",
     "text": [
      "Number of agents: 2\n",
      "Size of each action: 2\n",
      "There are 2 agents. Each observes a state with length: 24\n",
      "The state for the first agent looks like: [ 0.          0.          0.          0.          0.          0.\n",
      "  0.          0.          0.          0.          0.          0.\n",
      "  0.          0.          0.          0.         -6.65278625 -1.5\n",
      " -0.          0.          6.83172083  6.         -0.          0.        ]\n"
     ]
    }
   ],
   "source": [
    "# reset the environment\n",
    "env_info = env.reset(train_mode=True)[brain_name]\n",
    "\n",
    "# number of agents \n",
    "num_agents = len(env_info.agents)\n",
    "print('Number of agents:', num_agents)\n",
    "\n",
    "# size of each action\n",
    "action_size = brain.vector_action_space_size\n",
    "print('Size of each action:', action_size)\n",
    "\n",
    "# examine the state space \n",
    "states = env_info.vector_observations\n",
    "state_size = states.shape[1]\n",
    "print('There are {} agents. Each observes a state with length: {}'.format(states.shape[0], state_size))\n",
    "print('The state for the first agent looks like:', states[0])"
   ]
  },
  {
   "cell_type": "code",
   "execution_count": 5,
   "id": "manual-combine",
   "metadata": {},
   "outputs": [],
   "source": [
    "def train(agent, num_agents, n_episodes=10000, max_t=1000, max_score=0.5, saved_file_postfix='model.pt'):\n",
    "    scores = []\n",
    "    scores_window = deque(maxlen=100)\n",
    "    for i_episode in range(1, n_episodes+1):\n",
    "        env_info = env.reset(train_mode=True)[brain_name]\n",
    "        agent.reset()\n",
    "        states = env_info.vector_observations\n",
    "        score = np.zeros(num_agents)\n",
    "        for t in range(max_t):\n",
    "            actions = agent.act(states)\n",
    "            env_info = env.step(actions)[brain_name]\n",
    "            next_states = env_info.vector_observations\n",
    "            rewards = env_info.rewards\n",
    "            dones = env_info.local_done\n",
    "            agent.step(states, actions, rewards, next_states, dones)\n",
    "            states = next_states\n",
    "            score += rewards\n",
    "            if any(dones):\n",
    "                break\n",
    "        scores_window.append(np.max(score))\n",
    "        scores.append(np.max(score))\n",
    "        print(f\"\\rEpisode {i_episode}\\tAverage Score: {np.mean(scores_window)}\", end=\"\")\n",
    "        if i_episode % 100 == 0:\n",
    "            print(f\"\\rEpisode {i_episode}\\tAverage Score: {np.mean(scores_window)}\")\n",
    "        if np.mean(scores_window) >= max_score:\n",
    "            print(f\"\\nEnvironment solved in {i_episode-100} episodes!\\tAverage Score: {np.mean(scores_window)}\")\n",
    "            for i, i_agent in enumerate(agent.agents):\n",
    "                torch.save(i_agent.actor_local.state_dict(), f'agent_{i}_actor_local_{saved_file_postfix}')\n",
    "                torch.save(i_agent.actor_target.state_dict(), f'agent_{i}_actor_target_{saved_file_postfix}')\n",
    "                torch.save(i_agent.critic_local.state_dict(), f'agent_{i}_critic_local_{saved_file_postfix}')\n",
    "                torch.save(i_agent.critic_target.state_dict(), f'agent_{i}_critic_target_{saved_file_postfix}')\n",
    "            break\n",
    "    return scores"
   ]
  },
  {
   "cell_type": "code",
   "execution_count": 6,
   "id": "apparent-recording",
   "metadata": {},
   "outputs": [],
   "source": [
    "def visualize(scores):\n",
    "    fig = plt.figure()\n",
    "    ax = fig.add_subplot(111)\n",
    "    plt.plot(np.arange(len(scores)), scores)\n",
    "    plt.ylabel('Scores')\n",
    "    plt.xlabel('Episode')\n",
    "    plt.show()"
   ]
  },
  {
   "cell_type": "code",
   "execution_count": 7,
   "id": "earlier-board",
   "metadata": {},
   "outputs": [],
   "source": [
    "maddpg_agent = MADDPGAgent(state_size, action_size, num_agents, RANDOM_SEED, DEVICE, \n",
    "                           BUFFER_SIZE, BATCH_SIZE, GAMMA, TAU, LR_ACTOR, LR_CRITIC, \n",
    "                           WEIGHT_DECAY, UPDATE_EVERY)"
   ]
  },
  {
   "cell_type": "code",
   "execution_count": 8,
   "id": "japanese-navigation",
   "metadata": {},
   "outputs": [
    {
     "name": "stdout",
     "output_type": "stream",
     "text": [
      "Episode 100\tAverage Score: 0.014600000232458115\n",
      "Episode 200\tAverage Score: 0.004700000081211329\n",
      "Episode 300\tAverage Score: 0.0009000000171363354\n",
      "Episode 400\tAverage Score: 0.0010000000149011613\n",
      "Episode 500\tAverage Score: 0.0086000001430511476\n",
      "Episode 600\tAverage Score: 0.030700000505894427\n",
      "Episode 700\tAverage Score: 0.007800000123679638\n",
      "Episode 800\tAverage Score: 0.011700000185519456\n",
      "Episode 900\tAverage Score: 0.005900000091642142\n",
      "Episode 1000\tAverage Score: 0.0030000000447034836\n",
      "Episode 1100\tAverage Score: 0.0029000000655651096\n",
      "Episode 1200\tAverage Score: 0.0030000000447034836\n",
      "Episode 1300\tAverage Score: 0.0030000000447034836\n",
      "Episode 1400\tAverage Score: 0.0020000000298023225\n",
      "Episode 1500\tAverage Score: 0.0010000000149011613\n",
      "Episode 1600\tAverage Score: 0.0010000000149011613\n",
      "Episode 1700\tAverage Score: 0.0065000001154846646\n",
      "Episode 1800\tAverage Score: 0.002800000049173832\n",
      "Episode 1900\tAverage Score: 0.0009000000171363354\n",
      "Episode 2000\tAverage Score: 0.0039000000618398196\n",
      "Episode 2100\tAverage Score: 0.012500000204890966\n",
      "Episode 2200\tAverage Score: 0.010700000170618295\n",
      "Episode 2300\tAverage Score: 0.0020000000298023225\n",
      "Episode 2400\tAverage Score: 0.0010000000149011613\n",
      "Episode 2500\tAverage Score: 0.0\n",
      "Episode 2600\tAverage Score: 0.0010000000149011613\n",
      "Episode 2700\tAverage Score: 0.0010000000149011613\n",
      "Episode 2800\tAverage Score: 0.0009000000171363354\n",
      "Episode 2900\tAverage Score: 0.0018000000342726708\n",
      "Episode 3000\tAverage Score: 0.0106000001728534786\n",
      "Episode 3100\tAverage Score: 0.004900000076740982\n",
      "Episode 3200\tAverage Score: 0.006700000111013651\n",
      "Episode 3300\tAverage Score: 0.007800000123679638\n",
      "Episode 3400\tAverage Score: 0.003900000061839819\n",
      "Episode 3500\tAverage Score: 0.0087000001408159736\n",
      "Episode 3600\tAverage Score: 0.0030000000447034836\n",
      "Episode 3700\tAverage Score: 0.0010000000149011613\n",
      "Episode 3800\tAverage Score: 0.0\n",
      "Episode 3900\tAverage Score: 0.0\n",
      "Episode 4000\tAverage Score: 0.0\n",
      "Episode 4100\tAverage Score: 0.0030000000447034836\n",
      "Episode 4200\tAverage Score: 0.0029000000469386576\n",
      "Episode 4300\tAverage Score: 0.0009000000171363354\n",
      "Episode 4400\tAverage Score: 0.0059000000916421426\n",
      "Episode 4500\tAverage Score: 0.0009000000171363354\n",
      "Episode 4600\tAverage Score: 0.0010000000149011613\n",
      "Episode 4700\tAverage Score: 0.0087000001408159736\n",
      "Episode 4800\tAverage Score: 0.0010000000149011613\n",
      "Episode 4900\tAverage Score: 0.0010000000149011613\n",
      "Episode 5000\tAverage Score: 0.0010000000149011613\n",
      "Episode 5100\tAverage Score: 0.0059000000916421426\n",
      "Episode 5200\tAverage Score: 0.026300000417977573\n",
      "Episode 5300\tAverage Score: 0.004800000078976154\n",
      "Episode 5400\tAverage Score: 0.0204000003263354386\n",
      "Episode 5500\tAverage Score: 0.031900000516325245\n",
      "Episode 5600\tAverage Score: 0.036300000566989184\n",
      "Episode 5700\tAverage Score: 0.010800000168383122\n",
      "Episode 5800\tAverage Score: 0.0030000000447034836\n",
      "Episode 5900\tAverage Score: 0.0173000002838671246\n",
      "Episode 6000\tAverage Score: 0.020500000324100254\n",
      "Episode 6100\tAverage Score: 0.026000000424683093\n",
      "Episode 6200\tAverage Score: 0.018400000296533107\n",
      "Episode 6300\tAverage Score: 0.023900000397115945\n",
      "Episode 6400\tAverage Score: 0.0009000000171363354\n",
      "Episode 6500\tAverage Score: 0.0010000000149011613\n",
      "Episode 6600\tAverage Score: 0.0068000001087784766\n",
      "Episode 6700\tAverage Score: 0.0030000000447034836\n",
      "Episode 6800\tAverage Score: 0.0010000000149011613\n",
      "Episode 6900\tAverage Score: 0.0049000000767409896\n",
      "Episode 7000\tAverage Score: 0.026900000404566526\n",
      "Episode 7100\tAverage Score: 0.022700000349432232\n",
      "Episode 7200\tAverage Score: 0.023700000364333392\n",
      "Episode 7300\tAverage Score: 0.003900000061839819\n",
      "Episode 7400\tAverage Score: 0.0318000004813075156\n",
      "Episode 7500\tAverage Score: 0.006000000089406967\n",
      "Episode 7600\tAverage Score: 0.012900000195950279\n",
      "Episode 7700\tAverage Score: 0.0150000002235174186\n",
      "Episode 7800\tAverage Score: 0.025700000394135714\n",
      "Episode 7900\tAverage Score: 0.028800000436604023\n",
      "Episode 8000\tAverage Score: 0.021100000347942113\n",
      "Episode 8100\tAverage Score: 0.009800000153481966\n",
      "Episode 8200\tAverage Score: 0.014800000227987766\n",
      "Episode 8300\tAverage Score: 0.010700000170618295\n",
      "Episode 8400\tAverage Score: 0.006900000106543303\n",
      "Episode 8500\tAverage Score: 0.035900000538676985\n",
      "Episode 8600\tAverage Score: 0.021800000332295896\n",
      "Episode 8700\tAverage Score: 0.033500000517815356\n",
      "Episode 8800\tAverage Score: 0.044800000675022644\n",
      "Episode 8900\tAverage Score: 0.040000000596046455\n",
      "Episode 9000\tAverage Score: 0.019000000283122064\n",
      "Episode 9100\tAverage Score: 0.046000000685453415\n",
      "Episode 9200\tAverage Score: 0.055500000845640934\n",
      "Episode 9300\tAverage Score: 0.024900000374764204\n",
      "Episode 9400\tAverage Score: 0.007900000121444463\n",
      "Episode 9500\tAverage Score: 0.0030000000447034836\n",
      "Episode 9600\tAverage Score: 0.0010000000149011613\n",
      "Episode 9700\tAverage Score: 0.0019000000320374966\n",
      "Episode 9800\tAverage Score: 0.0010000000149011613\n",
      "Episode 9900\tAverage Score: 0.0010000000149011613\n",
      "Episode 10000\tAverage Score: 0.0\n"
     ]
    },
    {
     "data": {
      "image/png": "[encoded data removed]",
      "text/plain": [
       "<Figure size 432x288 with 1 Axes>"
      ]
     },
     "metadata": {
      "needs_background": "light"
     },
     "output_type": "display_data"
    }
   ],
   "source": [
    "try:\n",
    "    scores = train(maddpg_agent, num_agents, max_score=0.5)\n",
    "    visualize(scores)\n",
    "except Exception as e:\n",
    "    env.close()\n",
    "    raise e"
   ]
  },
  {
   "cell_type": "code",
   "execution_count": 9,
   "id": "dried-pledge",
   "metadata": {},
   "outputs": [],
   "source": [
    "env.close()"
   ]
  },
  {
   "cell_type": "code",
   "execution_count": null,
   "id": "sixth-addition",
   "metadata": {},
   "outputs": [],
   "source": []
  },
  {
   "cell_type": "code",
   "execution_count": null,
   "id": "second-lightning",
   "metadata": {},
   "outputs": [],
   "source": []
  },
  {
   "cell_type": "code",
   "execution_count": null,
   "id": "referenced-capitol",
   "metadata": {},
   "outputs": [],
   "source": []
  },
  {
   "cell_type": "code",
   "execution_count": null,
   "id": "designing-fitting",
   "metadata": {},
   "outputs": [],
   "source": []
  },
  {
   "cell_type": "code",
   "execution_count": null,
   "id": "wireless-worker",
   "metadata": {},
   "outputs": [],
   "source": []
  },
  {
   "cell_type": "code",
   "execution_count": null,
   "id": "civil-shark",
   "metadata": {},
   "outputs": [],
   "source": []
  },
  {
   "cell_type": "code",
   "execution_count": null,
   "id": "equipped-austin",
   "metadata": {},
   "outputs": [],
   "source": []
  },
  {
   "cell_type": "code",
   "execution_count": null,
   "id": "changed-throat",
   "metadata": {},
   "outputs": [],
   "source": []
  },
  {
   "cell_type": "code",
   "execution_count": 10,
   "id": "adjusted-exhaust",
   "metadata": {},
   "outputs": [],
   "source": [
    "# def test(env, agents, num_agents, n_episodes=3, saved_file_postfix='model.pt'):\n",
    "#     agents[0].actor_local.load_state_dict(torch.load('agent_0_actor_'+saved_file_postfix))\n",
    "#     agents[0].critic_local.load_state_dict(torch.load('agent_0_critic_'+saved_file_postfix))\n",
    "#     agents[1].actor_local.load_state_dict(torch.load('agent_1_actor_'+saved_file_postfix))\n",
    "#     agents[1].critic_local.load_state_dict(torch.load('agent_1_critic_'+saved_file_postfix))\n",
    "#     total_score = 0\n",
    "#     for i_episode in range(1, n_episodes+1):\n",
    "#         score = np.zeros(num_agents)\n",
    "#         env_info = env.reset(train_mode=False)[brain_name]\n",
    "#         states = env_info.vector_observations\n",
    "#         states = np.reshape(states, (1,48))\n",
    "#         for i in range(200):\n",
    "#             action_0 = agents[0].act(states, add_noise=False)\n",
    "#             action_1 = agents[1].act(states, add_noise=False)\n",
    "#             actions = np.concatenate((action_0, action_1), axis=0)\n",
    "#             actions = np.reshape(actions, (1, 4))\n",
    "#             env_info = env.step(actions)[brain_name]\n",
    "#             next_states = env_info.vector_observations\n",
    "#             next_states = np.reshape(next_states, (1, 48))\n",
    "#             reward = env_info.rewards\n",
    "#             done = env_info.local_done\n",
    "#             score += reward\n",
    "#             state = next_state\n",
    "#             if any(done):\n",
    "#                 break\n",
    "#         print(f\"\\rEpisode {i_episode} \\tScore: {np.mean(score)}\")\n",
    "#         total_score += np.mean(score)\n",
    "#     print(f\"\\rAverage score in {n_episodes} episodes: {total_score/n_episodes}\")"
   ]
  }
 ],
 "metadata": {
  "kernelspec": {
   "display_name": "drlnd",
   "language": "python",
   "name": "drlnd"
  },
  "language_info": {
   "codemirror_mode": {
    "name": "ipython",
    "version": 3
   },
   "file_extension": ".py",
   "mimetype": "text/x-python",
   "name": "python",
   "nbconvert_exporter": "python",
   "pygments_lexer": "ipython3",
   "version": "3.6.12"
  }
 },
 "nbformat": 4,
 "nbformat_minor": 5
}
